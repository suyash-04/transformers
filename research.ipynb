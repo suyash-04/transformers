{
 "cells": [
  {
   "cell_type": "code",
   "execution_count": 8,
   "id": "c5f00c9a",
   "metadata": {},
   "outputs": [],
   "source": [
    "from datasets import load_dataset, concatenate_datasets\n",
    "\n",
    "ds = load_dataset(\"iamTangsang/Nepali-to-English-Translation-Dataset\")"
   ]
  },
  {
   "cell_type": "code",
   "execution_count": 9,
   "id": "7c4ebb83",
   "metadata": {},
   "outputs": [
    {
     "data": {
      "text/plain": [
       "{'source': ['\"कुनै पनि अन्य सरकारी एजेन्सीले यो जानकारी प्रयोग गर्न सक्दैन, केन्द्रीय सरकार अन्तर्गतका कसैले कुनै पनि हालतमा यो जानकारी पाउँदैनन् र राज्यका अधिकारीहरूमा पनि स्वास्थ्य अधिकारीहरूले मात्र यसलाई प्रयोग गर्न सक्दछन्,\" उनले भने।',\n",
       "  'एउटा गीत प्ले गर्नुहोस्, जुन तपाईं चाहानुहुन्छ।',\n",
       "  'तर, तपाईं उदास हुँदा चिढिएर अझ बढी रिसाउनुहुन्छ अनि पूरै संसार गलत छ भनेर सोच्नुहुन्छ भने, तपाईं पटमूर्ख हो।',\n",
       "  'जिन्दगी भनेको कुनै चलचित्र होइन ।',\n",
       "  'त्यसपछि, म र उनीबीच केही दूरीको महसुस गरेँ।'],\n",
       " 'target': ['\"No other government agency can use this information, no one in the commonwealth government at all, and in state authorities, only the health officer can use it.',\n",
       "  'Pick a song which you want.',\n",
       "  'But, when you get sad, if you are going to get irritable and angry, and that whole world is wrong, you are a fool.',\n",
       "  '\"Life is not a movie.',\n",
       "  'Yet I felt there was a distance between me and him.']}"
      ]
     },
     "execution_count": 9,
     "metadata": {},
     "output_type": "execute_result"
    }
   ],
   "source": [
    "ds[\"train\"][:5]\n"
   ]
  },
  {
   "cell_type": "code",
   "execution_count": 10,
   "id": "a1a7d127",
   "metadata": {},
   "outputs": [
    {
     "data": {
      "text/plain": [
       "DatasetDict({\n",
       "    train: Dataset({\n",
       "        features: ['source', 'target'],\n",
       "        num_rows: 702697\n",
       "    })\n",
       "    validation: Dataset({\n",
       "        features: ['source', 'target'],\n",
       "        num_rows: 10866\n",
       "    })\n",
       "    test: Dataset({\n",
       "        features: ['source', 'target'],\n",
       "        num_rows: 10867\n",
       "    })\n",
       "})"
      ]
     },
     "execution_count": 10,
     "metadata": {},
     "output_type": "execute_result"
    }
   ],
   "source": [
    "ds"
   ]
  },
  {
   "cell_type": "code",
   "execution_count": 11,
   "id": "f29c17b4",
   "metadata": {},
   "outputs": [
    {
     "name": "stdout",
     "output_type": "stream",
     "text": [
      "Total rows: 724430\n"
     ]
    }
   ],
   "source": [
    "full_dataset = concatenate_datasets([ds[\"train\"], ds[\"validation\"], ds[\"test\"]])\n",
    "print(f\"Total rows: {len(full_dataset)}\")"
   ]
  },
  {
   "cell_type": "code",
   "execution_count": 13,
   "id": "2c6ea2eb",
   "metadata": {},
   "outputs": [
    {
     "name": "stdout",
     "output_type": "stream",
     "text": [
      "{'nepali': ['\"कुनै पनि अन्य सरकारी एजेन्सीले यो जानकारी प्रयोग गर्न सक्दैन, केन्द्रीय सरकार अन्तर्गतका कसैले कुनै पनि हालतमा यो जानकारी पाउँदैनन् र राज्यका अधिकारीहरूमा पनि स्वास्थ्य अधिकारीहरूले मात्र यसलाई प्रयोग गर्न सक्दछन्,\" उनले भने।', 'एउटा गीत प्ले गर्नुहोस्, जुन तपाईं चाहानुहुन्छ।', 'तर, तपाईं उदास हुँदा चिढिएर अझ बढी रिसाउनुहुन्छ अनि पूरै संसार गलत छ भनेर सोच्नुहुन्छ भने, तपाईं पटमूर्ख हो।', 'जिन्दगी भनेको कुनै चलचित्र होइन ।', 'त्यसपछि, म र उनीबीच केही दूरीको महसुस गरेँ।'], 'english': ['\"No other government agency can use this information, no one in the commonwealth government at all, and in state authorities, only the health officer can use it.', 'Pick a song which you want.', 'But, when you get sad, if you are going to get irritable and angry, and that whole world is wrong, you are a fool.', '\"Life is not a movie.', 'Yet I felt there was a distance between me and him.']}\n"
     ]
    }
   ],
   "source": [
    "# Rename columns\n",
    "full_dataset = full_dataset.rename_columns({\n",
    "    \"source\": \"nepali\",\n",
    "    \"target\": \"english\"\n",
    "})\n",
    "\n",
    "# Check first few examples\n",
    "print(full_dataset[:5])\n"
   ]
  },
  {
   "cell_type": "code",
   "execution_count": 14,
   "id": "05dd03c6",
   "metadata": {},
   "outputs": [
    {
     "data": {
      "text/plain": [
       "{'nepali': ['\"कुनै पनि अन्य सरकारी एजेन्सीले यो जानकारी प्रयोग गर्न सक्दैन, केन्द्रीय सरकार अन्तर्गतका कसैले कुनै पनि हालतमा यो जानकारी पाउँदैनन् र राज्यका अधिकारीहरूमा पनि स्वास्थ्य अधिकारीहरूले मात्र यसलाई प्रयोग गर्न सक्दछन्,\" उनले भने।',\n",
       "  'एउटा गीत प्ले गर्नुहोस्, जुन तपाईं चाहानुहुन्छ।',\n",
       "  'तर, तपाईं उदास हुँदा चिढिएर अझ बढी रिसाउनुहुन्छ अनि पूरै संसार गलत छ भनेर सोच्नुहुन्छ भने, तपाईं पटमूर्ख हो।',\n",
       "  'जिन्दगी भनेको कुनै चलचित्र होइन ।',\n",
       "  'त्यसपछि, म र उनीबीच केही दूरीको महसुस गरेँ।'],\n",
       " 'english': ['\"No other government agency can use this information, no one in the commonwealth government at all, and in state authorities, only the health officer can use it.',\n",
       "  'Pick a song which you want.',\n",
       "  'But, when you get sad, if you are going to get irritable and angry, and that whole world is wrong, you are a fool.',\n",
       "  '\"Life is not a movie.',\n",
       "  'Yet I felt there was a distance between me and him.']}"
      ]
     },
     "execution_count": 14,
     "metadata": {},
     "output_type": "execute_result"
    }
   ],
   "source": [
    "(full_dataset[:5])"
   ]
  },
  {
   "cell_type": "code",
   "execution_count": 60,
   "id": "9085d554",
   "metadata": {},
   "outputs": [
    {
     "data": {
      "text/plain": [
       "{'nepali': 'एउटा गीत प्ले गर्नुहोस्, जुन तपाईं चाहानुहुन्छ।',\n",
       " 'english': 'Pick a song which you want.'}"
      ]
     },
     "execution_count": 60,
     "metadata": {},
     "output_type": "execute_result"
    }
   ],
   "source": [
    "pair = full_dataset[1]\n",
    "pair"
   ]
  },
  {
   "cell_type": "code",
   "execution_count": 58,
   "id": "7a5e2fba",
   "metadata": {},
   "outputs": [
    {
     "data": {
      "text/plain": [
       "'एउटा गीत प्ले गर्नुहोस्, जुन तपाईं चाहानुहुन्छ।'"
      ]
     },
     "execution_count": 58,
     "metadata": {},
     "output_type": "execute_result"
    }
   ],
   "source": [
    "src_text = pair['nepali']\n",
    "src_text"
   ]
  },
  {
   "cell_type": "code",
   "execution_count": 52,
   "id": "860ab8b4",
   "metadata": {},
   "outputs": [],
   "source": [
    "train_ds_size = int(0.9 * len(full_dataset))\n"
   ]
  },
  {
   "cell_type": "code",
   "execution_count": 53,
   "id": "db8510e0",
   "metadata": {},
   "outputs": [
    {
     "data": {
      "text/plain": [
       "651987"
      ]
     },
     "execution_count": 53,
     "metadata": {},
     "output_type": "execute_result"
    }
   ],
   "source": [
    "train_ds_size"
   ]
  },
  {
   "cell_type": "code",
   "execution_count": 1,
   "id": "77eb7696",
   "metadata": {},
   "outputs": [],
   "source": [
    "import torch "
   ]
  },
  {
   "cell_type": "code",
   "execution_count": 4,
   "id": "0b344c27",
   "metadata": {},
   "outputs": [],
   "source": [
    "mask_u = torch.triu(torch.ones((1, 3,3 )), diagonal= 1).type(torch.int64)\n",
    "mask = (mask_u == 0).type(torch.int64)\n"
   ]
  },
  {
   "cell_type": "code",
   "execution_count": 5,
   "id": "d595b868",
   "metadata": {},
   "outputs": [
    {
     "data": {
      "text/plain": [
       "tensor([[[1, 0, 0],\n",
       "         [1, 1, 0],\n",
       "         [1, 1, 1]]])"
      ]
     },
     "execution_count": 5,
     "metadata": {},
     "output_type": "execute_result"
    }
   ],
   "source": [
    "mask"
   ]
  },
  {
   "cell_type": "code",
   "execution_count": 15,
   "id": "83e26895",
   "metadata": {},
   "outputs": [
    {
     "name": "stderr",
     "output_type": "stream",
     "text": [
      "  2%|▏         | 16071/724430 [00:04<03:05, 3826.20it/s]Token indices sequence length is longer than the specified maximum sequence length for this model (760 > 512). Running this sequence through the model will result in indexing errors\n",
      " 30%|██▉       | 214113/724430 [00:58<02:15, 3770.63it/s]Token indices sequence length is longer than the specified maximum sequence length for this model (559 > 512). Running this sequence through the model will result in indexing errors\n",
      "100%|██████████| 724430/724430 [03:17<00:00, 3668.31it/s]"
     ]
    },
    {
     "name": "stdout",
     "output_type": "stream",
     "text": [
      "Max source (Nepali) token length: 1569\n",
      "Max target (English) token length: 1164\n"
     ]
    },
    {
     "name": "stderr",
     "output_type": "stream",
     "text": [
      "\n"
     ]
    }
   ],
   "source": [
    "from tqdm import tqdm\n",
    "from transformers import AutoTokenizer\n",
    "\n",
    "# Example: using multilingual BERT (change to your actual model)\n",
    "tokenizer_src = AutoTokenizer.from_pretrained(\"bert-base-multilingual-cased\")\n",
    "tokenizer_tgt = AutoTokenizer.from_pretrained(\"bert-base-uncased\")\n",
    "\n",
    "\n",
    "max_len_src = 0\n",
    "max_len_tgt = 0\n",
    "\n",
    "for example in tqdm(full_dataset):\n",
    "    src_text = example['nepali']\n",
    "    tgt_text = example['english']\n",
    "\n",
    "    src_ids = tokenizer_src.encode(src_text, add_special_tokens=True)\n",
    "    tgt_ids = tokenizer_tgt.encode(tgt_text, add_special_tokens=True)\n",
    "\n",
    "    max_len_src = max(max_len_src, len(src_ids))\n",
    "    max_len_tgt = max(max_len_tgt, len(tgt_ids))\n",
    "\n",
    "print(f\"Max source (Nepali) token length: {max_len_src}\")\n",
    "print(f\"Max target (English) token length: {max_len_tgt}\")\n"
   ]
  },
  {
   "cell_type": "code",
   "execution_count": null,
   "id": "4a4ba337",
   "metadata": {},
   "outputs": [],
   "source": []
  }
 ],
 "metadata": {
  "kernelspec": {
   "display_name": "venv",
   "language": "python",
   "name": "python3"
  },
  "language_info": {
   "codemirror_mode": {
    "name": "ipython",
    "version": 3
   },
   "file_extension": ".py",
   "mimetype": "text/x-python",
   "name": "python",
   "nbconvert_exporter": "python",
   "pygments_lexer": "ipython3",
   "version": "3.11.0"
  }
 },
 "nbformat": 4,
 "nbformat_minor": 5
}
