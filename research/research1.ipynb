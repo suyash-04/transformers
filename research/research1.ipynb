{
 "cells": [
  {
   "cell_type": "code",
   "execution_count": 3,
   "id": "cf069a6e",
   "metadata": {},
   "outputs": [],
   "source": [
    "import os"
   ]
  },
  {
   "cell_type": "code",
   "execution_count": 4,
   "id": "1c442c1c",
   "metadata": {},
   "outputs": [],
   "source": [
    "os.chdir(\"../\")"
   ]
  },
  {
   "cell_type": "code",
   "execution_count": 6,
   "id": "c30fd7e9",
   "metadata": {},
   "outputs": [
    {
     "data": {
      "text/plain": [
       "'d:\\\\codes\\\\transformer'"
      ]
     },
     "execution_count": 6,
     "metadata": {},
     "output_type": "execute_result"
    }
   ],
   "source": [
    "os.getcwd()"
   ]
  },
  {
   "cell_type": "code",
   "execution_count": 8,
   "id": "44db3df5",
   "metadata": {},
   "outputs": [
    {
     "name": "stderr",
     "output_type": "stream",
     "text": [
      "d:\\codes\\transformer\\venv\\Lib\\site-packages\\tqdm\\auto.py:21: TqdmWarning: IProgress not found. Please update jupyter and ipywidgets. See https://ipywidgets.readthedocs.io/en/stable/user_install.html\n",
      "  from .autonotebook import tqdm as notebook_tqdm\n"
     ]
    }
   ],
   "source": [
    "\n",
    "from pathlib import Path\n",
    "import torch\n",
    "import torch.nn as nn\n",
    "from config import get_config, latest_weights_file_path\n",
    "from train import get_model, get_ds, run_validation\n"
   ]
  },
  {
   "cell_type": "code",
   "execution_count": 2,
   "id": "65322108",
   "metadata": {},
   "outputs": [
    {
     "name": "stdout",
     "output_type": "stream",
     "text": [
      "Using device: cpu\n",
      "DEBUG: Loading config from config.py\n",
      "Using 20883 samples out of 208831\n",
      "{'ne': 'दाऊदले अमालेकीहरूलाई हराएर पछि सिकलग गए। यो शाऊलको मृत्यु भएको केही दिन पछिको कुरा हो। दाऊद त्यहाँ दुइ दिन बसे।', 'en': 'It happened after the death of Saul, when David was returned from the slaughter of the Amalekites, and David had stayed two days in Ziklag;'}\n",
      "Max source length: 95, Max target length: 98\n"
     ]
    },
    {
     "data": {
      "text/plain": [
       "<All keys matched successfully>"
      ]
     },
     "execution_count": 2,
     "metadata": {},
     "output_type": "execute_result"
    }
   ],
   "source": [
    "# Define the device\n",
    "device = torch.device(\"cuda\" if torch.cuda.is_available() else \"cpu\")\n",
    "print(\"Using device:\", device)\n",
    "config = get_config()\n",
    "train_dataloader, val_dataloader, tokenizer_src, tokenizer_tgt = get_ds(config)\n",
    "model = get_model(config, tokenizer_src.get_vocab_size(), tokenizer_tgt.get_vocab_size()).to(device)\n",
    "\n",
    "# Load the pretrained weights\n",
    "model_filename = latest_weights_file_path(config)\n",
    "state = torch.load(model_filename , map_location=torch.device('cpu'))\n",
    "model.load_state_dict(state['model_state_dict'])"
   ]
  },
  {
   "cell_type": "code",
   "execution_count": 3,
   "id": "46b3301e",
   "metadata": {},
   "outputs": [
    {
     "name": "stdout",
     "output_type": "stream",
     "text": [
      "--------------------------------------------------------------------------------\n",
      "    SOURCE: जग ठूला-ठूला बहुमूल्य ढुङ्गाहरूद्वारा स्थापित गरिएको थियो। केही ढुङ्गाहरू 10 हात लामा अनि अरू 8 हात लामा थिए।\n",
      "    TARGET: The foundation was of costly stones, even great stones, stones of ten cubits, and stones of eight cubits.\n",
      " PREDICTED: The great high places were made in the house of , and ten cubits , and two cubits broad .\n",
      "--------------------------------------------------------------------------------\n",
      "    SOURCE: हे परमप्रभु, जाग्नु होस् अनि तपाईंको रिसले तिनीहरूलाई न्याय गर्नुहोस्। मेरा रिसाएका शत्रुहरूको विरोधमा उठ्नु होस्। हे मेरा परमेश्वर, तपाईं न्याय गर्नुहुन्छ यसर्थ मेरो निम्ति न्याय गर्नुहोस्।\n",
      "    TARGET: Arise, Yahweh, in your anger. Lift up yourself against the rage of my adversaries. Awake for me. You have commanded judgment.\n",
      " PREDICTED: Yahweh , don ' t hide your face from before you . Don ' t let the wrath of my people be angry .\n",
      "--------------------------------------------------------------------------------\n",
      "    SOURCE: यहूदाका सबै मानिसहरूले इस्राएलीहरूलाई जवाफ दिए, “कारण राजा हाम्रा नजिकका नातेदार हुन्। यसको निम्ति तिमीहरू किन रिसाउँछौ? हामीले राजाको खर्चमा खाना खाएका छैनौं। राजाले हामीलाई कुनै उपहार पनि दिएका छैनन्।”\n",
      "    TARGET: All the men of Judah answered the men of Israel, \"Because the king is a close relative to us. Why then are you angry about this matter? Have we eaten at all at the king's cost? Or has he given us any gift?\"\n",
      " PREDICTED: The men of Israel said to the children of Israel , \" Why is this day that we are with us ? Why is it in the king ' s house ? Why then is it that you should be able to take away from us ? Why is it that we should not be able to take away from us .\"\n",
      "--------------------------------------------------------------------------------\n",
      "    SOURCE: अनि यहूदा इस्करियेती जसले येशूसित विश्वासघात गरेको थियो।\n",
      "    TARGET: and Judas Iscariot, who also betrayed him. He came into a house.\n",
      " PREDICTED: and he called a little ones . He was a little child .\n",
      "--------------------------------------------------------------------------------\n",
      "    SOURCE: मनश्शेले अश्तारोत देवीको मूर्ति बनाए। उनले मूर्तिलाई मन्दिरमा स्थापित गरे। परमप्रभुले दाऊद द दाऊदका छोरा सुलेमानलाई यस मन्दिरको विषयमा भन्नुभएको थियो, “इस्राएलका सबै शहरहरूमध्ये मैले यरूशलेमलाई चुनेको थिएँ। म यरूशलेमको मन्दिरमा आफ्नो नाउँ सदाका लागि राख्नेछु।\n",
      "    TARGET: He set the engraved image of Asherah, that he had made, in the house of which Yahweh said to David and to Solomon his son, \"In this house, and in Jerusalem, which I have chosen out of all the tribes of Israel, will I put my name forever;\n",
      " PREDICTED: He made a covenant with them in the house of Yahweh , which he had made in the house of David , and said to him , \" I will give this city to David and to Judah , and to all the tribes of Israel , and to Jerusalem .\n",
      "--------------------------------------------------------------------------------\n",
      "    SOURCE: तपाईंले मरूभूमि र पहाडमा घाँसहरूले ढाक्नुभयो।\n",
      "    TARGET: The wilderness grasslands overflow. The hills are clothed with gladness.\n",
      " PREDICTED: You . You are like the wilderness . The mountains .\n",
      "--------------------------------------------------------------------------------\n",
      "    SOURCE: योशियाहले अग्ला ठाउँहरूका सबै पूजाहारीहरूलाई मारे जो सामरीयामा थिए। उनले ती वेदीहरूमा भएका पूजाहारीहरूलाई मारे। यस प्रकार पूजाका ती स्थलहरू शेष पारे। त्यसपछि उनी यरूशलेम फर्किए।\n",
      "    TARGET: He killed all the priests of the high places that were there, on the altars, and burned men's bones on them; and he returned to Jerusalem.\n",
      " PREDICTED: He built the high places of the priests , and made them in the place of the priests , and went up to Jerusalem .\n",
      "--------------------------------------------------------------------------------\n",
      "    SOURCE: मेरा शत्रुहरूले मलाई घेरेका छन्। तर तिनीहरूलाई परास्त गर्न मलाई परमप्रभुले सहयोग गर्नु हुनेछ। त्यसपछि म उहाँको पालमा बलि चढाउने छु। म आनन्दको जयकार सहित बलिदान गर्नेछु म परमप्रभुको सम्मानमा भजन गाउनेछु।\n",
      "    TARGET: Now my head will be lifted up above my enemies around me. I will offer sacrifices of joy in his tent. I will sing, yes, I will sing praises to Yahweh.\n",
      " PREDICTED: My soul shall be filled with me . I will set my hand on Yahweh ' s tent . I will sing praises to him . I will sing praises to Yahweh .\n",
      "--------------------------------------------------------------------------------\n",
      "    SOURCE: तिनले भण्डार शहरहरूमा अनेक आपुर्तिहरू राखे। अनि यहोशापातले यरूशलेममा प्रशिक्षित सैनिकहरू राखे।\n",
      "    TARGET: He had many works in the cities of Judah; and men of war, mighty men of valor, in Jerusalem.\n",
      " PREDICTED: He made in the cities of men of valor , in the cities of Judah , in the cities of Judah .\n",
      "--------------------------------------------------------------------------------\n",
      "    SOURCE: तब परमप्रभुले भन्नुभयो, “मैले धेरै पल्ट सुनेकोछु सदोम र गमोराका मानिसहरू साह्रै दुष्ट छन्।\n",
      "    TARGET: Yahweh said, \"Because the cry of Sodom and Gomorrah is great, and because their sin is very grievous,\n",
      " PREDICTED: Yahweh said , \" Because the voice of Sodom are very very great , because they are great , because of the heart of the Lord of Sodom and Gomorrah .\n",
      "--------------------------------------------------------------------------------\n"
     ]
    }
   ],
   "source": [
    "run_validation(model, val_dataloader, tokenizer_src, tokenizer_tgt, config['seq_len'], device, lambda msg: print(msg), 0, None, num_examples=10)"
   ]
  }
 ],
 "metadata": {
  "kernelspec": {
   "display_name": "venv",
   "language": "python",
   "name": "python3"
  },
  "language_info": {
   "codemirror_mode": {
    "name": "ipython",
    "version": 3
   },
   "file_extension": ".py",
   "mimetype": "text/x-python",
   "name": "python",
   "nbconvert_exporter": "python",
   "pygments_lexer": "ipython3",
   "version": "3.11.0"
  }
 },
 "nbformat": 4,
 "nbformat_minor": 5
}
